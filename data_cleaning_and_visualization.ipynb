{
  "nbformat": 4,
  "nbformat_minor": 0,
  "metadata": {
    "colab": {
      "provenance": []
    },
    "kernelspec": {
      "name": "python3",
      "display_name": "Python 3"
    },
    "language_info": {
      "name": "python"
    }
  },
  "cells": [
    {
      "cell_type": "code",
      "execution_count": 15,
      "metadata": {
        "colab": {
          "base_uri": "https://localhost:8080/"
        },
        "id": "1_X9TBDu-JOv",
        "outputId": "224b9b20-4699-4357-db77-2d1b02c2f983"
      },
      "outputs": [
        {
          "output_type": "stream",
          "name": "stdout",
          "text": [
            "Drive already mounted at /content/drive; to attempt to forcibly remount, call drive.mount(\"/content/drive\", force_remount=True).\n",
            "<class 'pandas.core.frame.DataFrame'>\n",
            "RangeIndex: 200 entries, 0 to 199\n",
            "Data columns (total 6 columns):\n",
            " #   Column     Non-Null Count  Dtype \n",
            "---  ------     --------------  ----- \n",
            " 0   Date       200 non-null    object\n",
            " 1   Product    200 non-null    object\n",
            " 2   Region     200 non-null    object\n",
            " 3   Quantity   200 non-null    int64 \n",
            " 4   UnitPrice  200 non-null    int64 \n",
            " 5   Total      200 non-null    int64 \n",
            "dtypes: int64(3), object(3)\n",
            "memory usage: 9.5+ KB\n"
          ]
        },
        {
          "output_type": "execute_result",
          "data": {
            "text/plain": [
              "np.int64(0)"
            ]
          },
          "metadata": {},
          "execution_count": 15
        }
      ],
      "source": [
        "#Import essential Libraries\n",
        "import pandas as pd\n",
        "import numpy as np\n",
        "import matplotlib.pyplot as plt\n",
        "import seaborn as sns\n",
        "from google.colab import drive\n",
        "#Set visualization style for jupyter\n",
        "#%matplotlib inline #es para mostrar las graficas en el cuaderno en otros entornos tipo jupyter\n",
        "sns.set(style=\"whitegrid\")#configura el estado fondo blanco cuadricula clara\n",
        "#load dataset\n",
        "drive.mount('/content/drive')\n",
        "sales = \"/content/drive/MyDrive/ml_engineer/p1_data_cleaning_and_visualization_sales/sales_dataset.csv\"\n",
        "df=pd.read_csv(sales)\n",
        "#Display the first five rows of the dataframe\n",
        "df.head()\n",
        "#Check the shape of the dataset (rows, columns)\n",
        "df.shape\n",
        "#Check the column names and data types\n",
        "df.info()\n",
        "#Get summary statistics for numerical columns\n",
        "df.describe()\n",
        "### 📊 What each `describe()` metric means (Statistical Review):\n",
        "#count: Number of non-null values (sample size n)\n",
        "#`mean`: Average (central tendency)\n",
        "#`std`: Standard deviation (data spread)\n",
        "#`min/max`: Extremes, range\n",
        "# 25%/50%/75%`: Quartiles (Q1, median, Q3)\n",
        "\n",
        "# Check for missing values in each column\n",
        "df.isnull().sum()\n",
        "# Check for duplicate rows\n",
        "df.duplicated().sum()\n",
        "#Check data types\n",
        "df.dtypes\n",
        "#Date as object\n",
        "# Convert 'Date' column to datetime format\n",
        "df['Date'] = pd.to_datetime(df['Date'])\n",
        "#Duplicated values\n",
        "# Check for duplicate rows\n",
        "df.duplicated().sum()\n",
        "# Remove duplicates if any\n",
        "df = df.drop_duplicates()\n",
        "## 💡 Reminder:\n",
        "#A duplicate is only a problem **if it violates what defines a unique record**.\n",
        "#Always define the key: `['id']`, or `['Date', 'Product', 'Region']`, depending on the context.\n",
        "# Check for missing values\n",
        "df.isnull().sum()\n",
        "\n",
        "# Opcional: eliminar filas si hay muchas nulas\n",
        "#delete if many nulls\n",
        "# df = df.dropna()\n",
        "\n",
        "# O rellenar si solo son pocos\n",
        "# fill if few nulls\n",
        "# df['Column'] = df['Column'].fillna(value)\n",
        "\n",
        "# Check unique values for categorical columns\n",
        "print(df['Region'].unique())\n",
        "print(df['Product'].unique())\n",
        "\n",
        "# Puedes usar .value_counts() para ver frecuencia\n",
        "df['Region'].value_counts()\n",
        "df['Product'].value_counts()\n",
        "\n"
      ]
    },
    {
      "cell_type": "code",
      "source": [
        "#Visualization\n",
        "df['Total_M'] = df['Total'] / 1_000_000\n",
        "# Total sales per product\n",
        "plt.figure(figsize=(8,5))\n",
        "sns.barplot(data=df, x='Product', y='Total_M', estimator=sum, ci=None)\n",
        "plt.title(\"Total Sales by Product\")\n",
        "plt.ylabel(\"Total Revenue Million (COP)\")\n",
        "plt.xlabel(\"Product\")\n",
        "plt.xticks(rotation=15)\n",
        "plt.tight_layout()\n",
        "plt.show()\n",
        "\n",
        "# Total sales per region\n",
        "plt.figure(figsize=(8,5))\n",
        "sns.barplot(data=df, x='Region', y='Total_M', estimator=sum, ci=None)\n",
        "plt.title(\"Total Sales by Region\")\n",
        "plt.ylabel(\"Total Revenue Million (COP)\")\n",
        "plt.xlabel(\"Region\")\n",
        "plt.tight_layout()\n",
        "plt.show()\n",
        "\n",
        "# Daily sales trend\n",
        "daily_sales = df.groupby('Date')['Total_M'].sum().reset_index()\n",
        "\n",
        "plt.figure(figsize=(10,5))\n",
        "sns.lineplot(data=daily_sales, x='Date', y='Total_M')\n",
        "plt.title(\"Daily Sales Trend\")\n",
        "plt.ylabel(\"Total Revenue Million (COP)\")\n",
        "plt.xlabel(\"Date\")\n",
        "plt.xticks(rotation=45)\n",
        "plt.tight_layout()\n",
        "plt.show()\n"
      ],
      "metadata": {
        "id": "R3Cb2IwWKeY5"
      },
      "execution_count": null,
      "outputs": []
    },
    {
      "cell_type": "code",
      "source": [
        "#Data Analythics\n",
        "# Top product by total revenue\n",
        "top_product = df.groupby('Product')['Total'].sum().idxmax()\n",
        "top_product_total = df.groupby('Product')['Total'].sum().max()\n",
        "\n",
        "# Top region by total revenue\n",
        "top_region = df.groupby('Region')['Total'].sum().idxmax()\n",
        "top_region_total = df.groupby('Region')['Total'].sum().max()\n",
        "\n",
        "# Best sales day\n",
        "top_day = df.groupby('Date')['Total'].sum().idxmax()\n",
        "top_day_total = df.groupby('Date')['Total'].sum().max()\n",
        "from IPython.display import Markdown\n",
        "\n",
        "Markdown(f\"\"\"\n",
        "## 📋 Data Summary & Business Insights\n",
        "\n",
        "### 📦 Product Performance (ABC Classification)\n",
        "Based on total revenue:\n",
        "\n",
        "- 🅰️ **{top_product}** — Top product, generating over **${top_product_total:,.0f} COP**.\n",
        "- 🅱️ Wallpaper Roll — Moderate contributor.\n",
        "- 🅲️ Decor Kit — Lowest revenue.\n",
        "\n",
        "> 💡 *{top_product} should be the focus of operational and marketing resources.*\n",
        "\n",
        "---\n",
        "\n",
        "### 📆 Best Performing Date\n",
        "\n",
        "- **Date:** `{top_day.date()}`\n",
        "- **Total Revenue:** **${top_day_total:,.0f} COP**\n",
        "\n",
        "> 📌 *This pattern should be tracked monthly to optimize future campaigns.*\n",
        "\n",
        "---\n",
        "\n",
        "### 🏙️ Top Performing Region\n",
        "\n",
        "- **City:** `{top_region}`\n",
        "- **Total Revenue:** **${top_region_total:,.0f} COP**\n",
        "\n",
        "> 🚚 *Focus inventory and marketing in this city to drive higher returns.*\n",
        "\n",
        "---\n",
        "\n",
        "### 📈 Visualizations Summary\n",
        "\n",
        "1. 📊 *Total Sales by Product* — Reveals product popularity and revenue strength.\n",
        "2. 🌎 *Total Sales by Region* — Highlights key geographic markets.\n",
        "3. 📈 *Daily Sales Trend* — Shows fluctuations and potential seasonality.\n",
        "\n",
        "---\n",
        "\n",
        "### 🔍 Recommendations\n",
        "\n",
        "- Focus promotions and stock on **{top_product}** and **{top_region}**.\n",
        "- Investigate low-performing products for improvement.\n",
        "- Analyze **{top_day.date()}** to understand what drove high sales.\n",
        "- Extend this analysis with customer segmentation and time series forecasting.\n",
        "\n",
        "\"\"\")\n"
      ],
      "metadata": {
        "colab": {
          "base_uri": "https://localhost:8080/",
          "height": 711
        },
        "id": "OdtJ7ZObMeSY",
        "outputId": "dcfc366e-6168-426a-cd78-578654ffa146"
      },
      "execution_count": 19,
      "outputs": [
        {
          "output_type": "execute_result",
          "data": {
            "text/plain": [
              "<IPython.core.display.Markdown object>"
            ],
            "text/markdown": "\n## 📋 Data Summary & Business Insights\n\n### 📦 Product Performance (ABC Classification)\nBased on total revenue:\n\n- 🅰️ **Wall Panels** — Top product, generating over **$17,686,236 COP**.\n- 🅱️ Wallpaper Roll — Moderate contributor.\n- 🅲️ Decor Kit — Lowest revenue.\n\n> 💡 *Wall Panels should be the focus of operational and marketing resources.*\n\n---\n\n### 📆 Best Performing Date\n\n- **Date:** `2023-03-03`  \n- **Total Revenue:** **$2,438,809 COP**\n\n> 📌 *This pattern should be tracked monthly to optimize future campaigns.*\n\n---\n\n### 🏙️ Top Performing Region\n\n- **City:** `Medellín`  \n- **Total Revenue:** **$14,574,882 COP**\n\n> 🚚 *Focus inventory and marketing in this city to drive higher returns.*\n\n---\n\n### 📈 Visualizations Summary\n\n1. 📊 *Total Sales by Product* — Reveals product popularity and revenue strength.\n2. 🌎 *Total Sales by Region* — Highlights key geographic markets.\n3. 📈 *Daily Sales Trend* — Shows fluctuations and potential seasonality.\n\n---\n\n### 🔍 Recommendations\n\n- Focus promotions and stock on **Wall Panels** and **Medellín**.\n- Investigate low-performing products for improvement.\n- Analyze **2023-03-03** to understand what drove high sales.\n- Extend this analysis with customer segmentation and time series forecasting.\n\n"
          },
          "metadata": {},
          "execution_count": 19
        }
      ]
    }
  ]
}